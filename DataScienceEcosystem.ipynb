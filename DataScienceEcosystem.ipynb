{
  "nbformat": 4,
  "nbformat_minor": 0,
  "metadata": {
    "colab": {
      "provenance": []
    },
    "kernelspec": {
      "name": "python3",
      "display_name": "Python 3"
    },
    "language_info": {
      "name": "python"
    }
  },
  "cells": [
    {
      "cell_type": "markdown",
      "source": [
        "#Data Science Tools and Ecosystem\n"
      ],
      "metadata": {
        "id": "WWuOyUA2MPq7"
      }
    },
    {
      "cell_type": "markdown",
      "source": [
        "In this notebook, Data Science Tools and Ecosystem are summarized.\n"
      ],
      "metadata": {
        "id": "b0VMdb9nMscK"
      }
    },
    {
      "cell_type": "markdown",
      "source": [
        "**Objectives:**\n",
        "\n",
        "*   Popular languages in Data Science are Python, Julia, R.\n",
        "*   Commonly used libraries used by Data Scientists include Matplotlib, Scipy, Keras.\n",
        "*  Data Science Tools are RStudio,Apache Spark, TensorFlow\n",
        "\n"
      ],
      "metadata": {
        "id": "GBJUT5XOQmxJ"
      }
    },
    {
      "cell_type": "markdown",
      "source": [
        "Some of the popular languages that Data Scientists use are:\n",
        "\n",
        "\n",
        "1.   Python\n",
        "2.   Julia\n",
        "3.   R\n",
        "\n"
      ],
      "metadata": {
        "id": "quzftnr3M9-5"
      }
    },
    {
      "cell_type": "markdown",
      "source": [
        "Some of the commonly used libraries used by Data Scientists include:\n",
        "\n",
        "\n",
        "1.   Matplotlib\n",
        "2.   SciPy\n",
        "3.   Keras\n",
        "\n"
      ],
      "metadata": {
        "id": "GUdkqtOpNcHp"
      }
    },
    {
      "cell_type": "markdown",
      "source": [
        "|Data Science Tools|\n",
        "|---|\n",
        "|RStudio|\n",
        "|TensorFlow|\n",
        "|Apache Spark|"
      ],
      "metadata": {
        "id": "WqFEk9iDN24x"
      }
    },
    {
      "cell_type": "markdown",
      "source": [
        "###Below are a few examples of evaluating arithmetic expressions in Python"
      ],
      "metadata": {
        "id": "1AZ4qr9FPS15"
      }
    },
    {
      "cell_type": "code",
      "source": [
        "#This a simple arithmetic expression to mutiply then add integers\n",
        "(3*4)+5"
      ],
      "metadata": {
        "colab": {
          "base_uri": "https://localhost:8080/"
        },
        "id": "LPu9PnICPkTQ",
        "outputId": "dfc604db-11f3-4d06-db03-662a02c9c476"
      },
      "execution_count": 3,
      "outputs": [
        {
          "output_type": "execute_result",
          "data": {
            "text/plain": [
              "17"
            ]
          },
          "metadata": {},
          "execution_count": 3
        }
      ]
    },
    {
      "cell_type": "code",
      "source": [
        "#This will convert 200 minutes to hours by diving by 60\n",
        "200/6"
      ],
      "metadata": {
        "colab": {
          "base_uri": "https://localhost:8080/"
        },
        "id": "Jhgc22juQMqx",
        "outputId": "ddf6cce6-ac45-48e8-c47e-dcb49d66aed8"
      },
      "execution_count": 4,
      "outputs": [
        {
          "output_type": "execute_result",
          "data": {
            "text/plain": [
              "33.333333333333336"
            ]
          },
          "metadata": {},
          "execution_count": 4
        }
      ]
    },
    {
      "cell_type": "markdown",
      "source": [
        "##Author Shuvranil Sanyal\n"
      ],
      "metadata": {
        "id": "277xJzmaRiZ5"
      }
    }
  ]
}